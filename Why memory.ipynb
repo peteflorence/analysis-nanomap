{
 "cells": [
  {
   "cell_type": "markdown",
   "metadata": {
    "deletable": true,
    "editable": true
   },
   "source": [
    "Max safe pitch as a function of vertical FOV\n",
    "\n",
    "$$ \\psi_{\\text{max}} = \\frac{FOV_{vertical}}{2} $$\n",
    "\n",
    "Due to the dynamics of a quadrotor (refer to Mellinger), a maximum allowable pitch is directly mapped to a maximum allowable deceleration:\n",
    "\n",
    "$$ a_{max} = g \\tan \\bigg( \\frac{FOV_{vetical}}{2} \\bigg)$$\n",
    "\n",
    "A maximum allowable deceleration defines the maximum stopping distance, for a given speed.  In order to keep the maximum stopping distance inside of the maximum depth range, then the allowable speed must be limited.  With a simple double-integrator approximation of the quadrotor dynamics, solving $p(t) = \\frac{1}{2}at2 + v_0t$ and $v(t) = at + v_0$ for $t = \\frac{-v_0}{a}$ gives the following:\n",
    "\n",
    "$$ v_0 = \\sqrt{\\frac{2pa}{3}}$$\n",
    "\n",
    "Note that we've ommitted the negative sign which just represents that $a$ is opposite to the vector $p$.\n",
    "\n",
    "This gives the maximum allowable speed directly as a function of the depth camera used.  $p$ is the stopping distance, which to maintain safe flight must be less than the maximum depth sensor range.  \n",
    "\n",
    "We now have a function that relates the two of the key characteristics of a depth camera, the vertical FOV and the range, to the maximum allowable speed in forward flight:\n",
    "\n",
    "$$ v_{max} = \\sqrt{ \\frac{2 d_{max} g}{3}\\tan\\bigg( \\frac{FOV_{vertical}}{2} \\bigg)} $$"
   ]
  },
  {
   "cell_type": "code",
   "execution_count": 9,
   "metadata": {
    "collapsed": false,
    "deletable": true,
    "editable": true
   },
   "outputs": [],
   "source": [
    "import numpy as np\n",
    "import numpy.random\n",
    "import matplotlib.pyplot as plt\n",
    "\n",
    "def f(dmax,fov_vertical):\n",
    "    fov_vertical = fov_vertical * np.pi/180.0\n",
    "    return np.sqrt(2*dmax*9.8/3*np.tan(fov_vertical/2))\n",
    "\n",
    "# dmax\n",
    "xmin = 0\n",
    "xmax = 50\n",
    "\n",
    "# fov_vertical\n",
    "ymin = 0\n",
    "ymax = 100\n",
    "\n",
    "z = numpy.array([[f(x, y) for x in range(xmin,xmax)] for y in range(ymin,ymax)])\n",
    "\n",
    "plt.pcolormesh(z, vmin=0, vmax=30)\n",
    "plt.colorbar(label='v_{max}')\n",
    "curves = 10\n",
    "m = max([max(row) for row in z])\n",
    "levels = numpy.arange(0, m, (1 / float(curves)) * m)\n",
    "plt.contour(z, colors=\"white\", levels=levels)\n",
    "plt.xlabel('d_{max}')\n",
    "plt.ylabel('FOV_{vertical}')\n",
    "plt.show()"
   ]
  },
  {
   "cell_type": "code",
   "execution_count": 10,
   "metadata": {
    "collapsed": false,
    "deletable": true,
    "editable": true
   },
   "outputs": [],
   "source": [
    "def f2(dmax,amax):\n",
    "    return np.sqrt(2*dmax*amax/3)\n",
    "\n",
    "# dmax\n",
    "xmin = 0\n",
    "xmax = 50\n",
    "\n",
    "# amax\n",
    "ymin = 10\n",
    "ymax = 30\n",
    "\n",
    "xbins = np.arange(xmin,xmax,1.0)\n",
    "ybins = np.arange(ymin,ymax,1.0)\n",
    "z = numpy.array([[f2(x, y) for x in xbins] for y in ybins])\n",
    "\n",
    "plt.pcolormesh(z, vmin=0, vmax=30)\n",
    "\n",
    "num_ticks = float(5)\n",
    "xtick_locs = np.arange(0,len(xbins)+1,len(xbins)/num_ticks)\n",
    "xtick_labels = np.arange(xmin,xmax+1,(xmax-xmin)/num_ticks)\n",
    "plt.xticks(xtick_locs, xtick_labels)\n",
    "\n",
    "num_ticks = float(4)\n",
    "ytick_locs = np.arange(0,len(ybins)+1,len(ybins)/num_ticks)\n",
    "ytick_labels = np.arange(ymin,ymax+1,(ymax-ymin)/num_ticks)\n",
    "plt.yticks(ytick_locs, ytick_labels)\n",
    "\n",
    "plt.colorbar(label='v_{max}')\n",
    "curves = 10\n",
    "m = max([max(row) for row in z])\n",
    "levels = numpy.arange(0, m, (1 / float(curves)) * m)\n",
    "plt.contour(z, colors=\"white\", levels=levels)\n",
    "plt.xlabel('d_{max}')\n",
    "plt.ylabel('a_{max}')\n",
    "plt.show()"
   ]
  },
  {
   "cell_type": "markdown",
   "metadata": {
    "deletable": true,
    "editable": true
   },
   "source": [
    "Interestingly, though, only a small amount of memory is needed in order to enable the vehicle to be limited by its actuators rather than by its current FOV.\n",
    "\n",
    "In particular, if we simply calculate the stopping time for the simple double integrator as a function of speed and acceleration ($t = \\frac{v_0}{a}$) we get:\n",
    "\n",
    "\n"
   ]
  },
  {
   "cell_type": "code",
   "execution_count": 11,
   "metadata": {
    "collapsed": false,
    "deletable": true,
    "editable": true
   },
   "outputs": [],
   "source": [
    "def stopping_time(vmax,amax):\n",
    "    return vmax/amax\n",
    "\n",
    "# vmax\n",
    "xmin = 0\n",
    "xmax = 20\n",
    "\n",
    "# amax\n",
    "ymin = 10\n",
    "ymax = 30\n",
    "\n",
    "xbins = np.arange(xmin,xmax,0.1)\n",
    "ybins = np.arange(ymin,ymax,0.1)\n",
    "z = numpy.array([[stopping_time(x, y) for x in xbins] for y in ybins])\n",
    "\n",
    "plt.pcolormesh(z)\n",
    "\n",
    "num_ticks = float(8)\n",
    "xtick_locs = np.arange(0,len(xbins)+1,len(xbins)/num_ticks)\n",
    "xtick_labels = np.arange(xmin,xmax+1,(xmax-xmin)/num_ticks)\n",
    "plt.xticks(xtick_locs, xtick_labels)\n",
    "\n",
    "ytick_locs = np.arange(0,len(ybins)+1,len(ybins)/num_ticks)\n",
    "ytick_labels = np.arange(ymin,ymax+1,(ymax-ymin)/num_ticks)\n",
    "plt.yticks(ytick_locs, ytick_labels)\n",
    "\n",
    "plt.colorbar(label='stopping time')\n",
    "curves = 10\n",
    "m = max([max(row) for row in z])\n",
    "levels = numpy.arange(0, m, (1 / float(curves)) * m)\n",
    "plt.contour(z, colors=\"white\", levels=levels)\n",
    "plt.xlabel('v_{max}')\n",
    "plt.ylabel('a_{max}')\n",
    "plt.show()"
   ]
  },
  {
   "cell_type": "markdown",
   "metadata": {
    "deletable": true,
    "editable": true
   },
   "source": [
    "It is interesting to note that we acually don't even need much memory at all.\n",
    "\n",
    "In addition to the relatively short depth of memory needed, it is often the case in certain regimes of motion that there is a large bias towards the very most recent measurement being sufficient."
   ]
  },
  {
   "cell_type": "code",
   "execution_count": 19,
   "metadata": {
    "collapsed": false,
    "deletable": true,
    "editable": true
   },
   "outputs": [
    {
     "data": {
      "image/png": "[encoded data removed]",
      "text/plain": [
       "<matplotlib.figure.Figure at 0x10a380610>"
      ]
     },
     "metadata": {},
     "output_type": "display_data"
    }
   ],
   "source": [
    "\"\"\"\n",
    "Demonstration of using norm to map colormaps onto data in non-linear ways.\n",
    "\"\"\"\n",
    "%matplotlib inline\n",
    "import numpy as np\n",
    "import matplotlib.pyplot as plt\n",
    "import matplotlib.colors as colors\n",
    "from matplotlib.mlab import bivariate_normal\n",
    "\n",
    "'''\n",
    "Lognorm: Instead of pcolor log10(Z1) you can have colorbars that have\n",
    "the exponential labels using a norm.\n",
    "'''\n",
    "N = 100\n",
    "X, Y = np.mgrid[-3:3:complex(0, N), -2:2:complex(0, N)]\n",
    "\n",
    "# A low hump with a spike coming out of the top right.  Needs to have\n",
    "# z/colour axis on a log scale so we see both hump and spike.  linear\n",
    "# scale only shows the spike.\n",
    "Z1 = bivariate_normal(X, Y, 0.1, 0.2, 1.0, 1.0) +  \\\n",
    "    0.1 * bivariate_normal(X, Y, 1.0, 1.0, 0.0, 0.0)\n",
    "\n",
    "fig, ax = plt.subplots(2, 1)\n",
    "\n",
    "pcm = ax[0].pcolor(X, Y, Z1,\n",
    "                   norm=colors.LogNorm(vmin=Z1.min(), vmax=Z1.max()),\n",
    "                   cmap='PuBu_r')\n",
    "fig.colorbar(pcm, ax=ax[0], extend='max')\n",
    "\n",
    "pcm = ax[1].pcolor(X, Y, Z1, cmap='PuBu_r')\n",
    "fig.colorbar(pcm, ax=ax[1], extend='max')\n",
    "fig.show()"
   ]
  },
  {
   "cell_type": "code",
   "execution_count": 13,
   "metadata": {
    "collapsed": false,
    "deletable": true,
    "editable": true
   },
   "outputs": [
    {
     "data": {
      "image/png": "[encoded data removed]",
      "text/plain": [
       "<matplotlib.figure.Figure at 0x10b92e890>"
      ]
     },
     "metadata": {},
     "output_type": "display_data"
    }
   ],
   "source": [
    "import numpy as np\n",
    "import numpy.random\n",
    "import matplotlib.pyplot as plt\n",
    "\n",
    "def f(x, y):\n",
    "  return x*y\n",
    "\n",
    "xmax = ymax = 100\n",
    "z = numpy.array([[f(x, y) for x in range(xmax)] for y in range(ymax)])\n",
    "\n",
    "plt.pcolormesh(z)\n",
    "plt.colorbar()\n",
    "curves = 10\n",
    "m = max([max(row) for row in z])\n",
    "levels = numpy.arange(0, m, (1 / float(curves)) * m)\n",
    "plt.contour(z, colors=\"white\", levels=levels)\n",
    "plt.show()"
   ]
  },
  {
   "cell_type": "code",
   "execution_count": 14,
   "metadata": {
    "collapsed": false,
    "deletable": true,
    "editable": true
   },
   "outputs": [
    {
     "data": {
      "image/png": "[encoded data removed]",
      "text/plain": [
       "<matplotlib.figure.Figure at 0x11027ff50>"
      ]
     },
     "metadata": {},
     "output_type": "display_data"
    }
   ],
   "source": [
    "def f2(dmax,fov_vertical):\n",
    "    fov_vertical = 100 * np.pi/180.0\n",
    "    return np.sqrt(2*dmax*9.8/3*np.tan(fov_vertical/2))\n",
    "\n",
    "# dmax\n",
    "xmin = 0\n",
    "xmax = 50\n",
    "\n",
    "# amax\n",
    "ymin = 2\n",
    "ymax = 20\n",
    "\n",
    "z = numpy.array([[f2(x, y) for x in range(xmin,xmax)] for y in range(ymin,ymax)])\n",
    "\n",
    "plt.pcolormesh(z)\n",
    "plt.colorbar(label='v_{max}')\n",
    "curves = 10\n",
    "m = max([max(row) for row in z])\n",
    "levels = numpy.arange(0, m, (1 / float(curves)) * m)\n",
    "plt.contour(z, colors=\"white\", levels=levels)\n",
    "plt.xlabel('d_{max}')\n",
    "plt.ylabel('FOV_{vertical}')\n",
    "plt.show()"
   ]
  },
  {
   "cell_type": "code",
   "execution_count": 15,
   "metadata": {
    "collapsed": false
   },
   "outputs": [
    {
     "name": "stdout",
     "output_type": "stream",
     "text": [
      "[ 1  2  3  4  5  6  7  8  9 10]\n",
      "[10  9  8  7  6  5  4  3  2  1]\n"
     ]
    }
   ],
   "source": [
    "print np.arange(1,11)\n",
    "print np.arange(10,0,-1)\n"
   ]
  },
  {
   "cell_type": "code",
   "execution_count": 16,
   "metadata": {
    "collapsed": false
   },
   "outputs": [
    {
     "name": "stdout",
     "output_type": "stream",
     "text": [
      "(3, 10)\n",
      "(10,)\n"
     ]
    },
    {
     "data": {
      "image/png": "[encoded data removed]",
      "text/plain": [
       "<matplotlib.figure.Figure at 0x1137db090>"
      ]
     },
     "metadata": {},
     "output_type": "display_data"
    }
   ],
   "source": [
    "import numpy as np\n",
    "import matplotlib.pyplot as plt\n",
    "\n",
    "def fnx():\n",
    "    return np.ones(10)\n",
    "    a = np.random.randint(5, 50, 10)\n",
    "    \n",
    "def fnxup():\n",
    "    return np.arange(1,11)\n",
    "\n",
    "def fnxdown():\n",
    "    return np.arange(10,0,-1)\n",
    "    \n",
    "y = np.row_stack((fnxup(), 2*fnx(), fnxdown()))\n",
    "x = np.arange(10)\n",
    "\n",
    "print np.shape(y)\n",
    "print np.shape(x)\n",
    "\n",
    "fig, ax = plt.subplots()\n",
    "ax.stackplot(x, y, colors=('b','k','r'))\n",
    "plt.show()\n",
    "\n",
    "#y1, y2, y3 = fnx(), fnx(), fnx()\n",
    "# fig, ax = plt.subplots()\n",
    "# ax.stackplot(x, y1, y2, y3)\n",
    "# plt.show()"
   ]
  },
  {
   "cell_type": "code",
   "execution_count": 17,
   "metadata": {
    "collapsed": false
   },
   "outputs": [
    {
     "name": "stdout",
     "output_type": "stream",
     "text": [
      "YlGn\n"
     ]
    },
    {
     "data": {
      "image/png": "[encoded data removed]",
      "text/plain": [
       "<matplotlib.figure.Figure at 0x11380b450>"
      ]
     },
     "metadata": {},
     "output_type": "display_data"
    }
   ],
   "source": [
    "import numpy as np\n",
    "import matplotlib.pyplot as plt\n",
    "\n",
    "\n",
    "# Have colormaps separated into categories:\n",
    "# http://matplotlib.org/examples/color/colormaps_reference.html\n",
    "cmaps = [('Perceptually Uniform Sequential', [\n",
    "            'viridis', 'plasma', 'inferno', 'magma']),\n",
    "         ('Sequential', [\n",
    "            'Greys', 'Purples', 'Blues', 'Greens', 'Oranges', 'Reds',\n",
    "            'YlOrBr', 'YlOrRd', 'OrRd', 'PuRd', 'RdPu', 'BuPu',\n",
    "            'GnBu', 'PuBu', 'YlGnBu', 'PuBuGn', 'BuGn', 'YlGn']),\n",
    "         ('Sequential (2)', [\n",
    "            'binary', 'gist_yarg', 'gist_gray', 'gray', 'bone', 'pink',\n",
    "            'spring', 'summer', 'autumn', 'winter', 'cool', 'Wistia',\n",
    "            'hot', 'afmhot', 'gist_heat', 'copper']),\n",
    "         ('Diverging', [\n",
    "            'PiYG', 'PRGn', 'BrBG', 'PuOr', 'RdGy', 'RdBu',\n",
    "            'RdYlBu', 'RdYlGn', 'Spectral', 'coolwarm', 'bwr', 'seismic']),\n",
    "         ('Qualitative', [\n",
    "            'Pastel1', 'Pastel2', 'Paired', 'Accent',\n",
    "            'Dark2', 'Set1', 'Set2', 'Set3']),\n",
    "         ('Miscellaneous', [\n",
    "            'flag', 'prism', 'ocean', 'gist_earth', 'terrain', 'gist_stern',\n",
    "            'gnuplot', 'gnuplot2', 'CMRmap', 'cubehelix', 'brg', 'hsv',\n",
    "            'gist_rainbow', 'rainbow', 'jet', 'nipy_spectral', 'gist_ncar'])]\n",
    "\n",
    "\n",
    "\n",
    "\n",
    "nrows = max(len(cmap_list) for cmap_category, cmap_list in cmaps)\n",
    "gradient = np.linspace(0, 1, 256)\n",
    "gradient = np.vstack((gradient, gradient))\n",
    "\n",
    "\n",
    "def plot_color_gradients(cmap_category, cmap_list, nrows):\n",
    "    fig, axes = plt.subplots(nrows=nrows)\n",
    "    fig.subplots_adjust(top=0.95, bottom=0.01, left=0.2, right=0.99)\n",
    "    axes[0].set_title(cmap_category + ' colormaps', fontsize=14)\n",
    "\n",
    "    for ax, name in zip(axes, cmap_list):\n",
    "        print name\n",
    "        ax.imshow(gradient, aspect='auto', cmap=plt.get_cmap(name))\n",
    "        pos = list(ax.get_position().bounds)\n",
    "        x_text = pos[0] - 0.01\n",
    "        y_text = pos[1] + pos[3]/2.\n",
    "        fig.text(x_text, y_text, name, va='center', ha='right', fontsize=10)\n",
    "\n",
    "    # Turn off *all* ticks & spines, not just the ones with colormaps.\n",
    "    for ax in axes:\n",
    "        ax.set_axis_off()\n",
    "\n",
    "\n",
    "cmap_mine = ['YlGn']\n",
    "plot_color_gradients(\"hey\", cmap_mine, 2)\n",
    "        \n",
    "#for cmap_category, cmap_list in cmaps:\n",
    "#    plot_color_gradients(cmap_category, cmap_list, nrows)\n",
    "\n",
    "plt.show()"
   ]
  },
  {
   "cell_type": "code",
   "execution_count": 20,
   "metadata": {
    "collapsed": false
   },
   "outputs": [
    {
     "name": "stdout",
     "output_type": "stream",
     "text": [
      "[[ 0.          0.          0.          1.        ]\n",
      " [ 0.52024118  0.          0.58692157  1.        ]\n",
      " [ 0.          0.          0.78826863  1.        ]\n",
      " [ 0.          0.52158824  0.8667      1.        ]\n",
      " [ 0.          0.6667      0.62746471  1.        ]\n",
      " [ 0.          0.61306863  0.          1.        ]\n",
      " [ 0.          0.85362157  0.          1.        ]\n",
      " [ 0.51762353  1.          0.          1.        ]\n",
      " [ 0.97253529  0.85488824  0.          1.        ]\n",
      " [ 1.          0.36470588  0.          1.        ]\n",
      " [ 0.85362157  0.          0.          1.        ]\n",
      " [ 0.8         0.8         0.8         1.        ]]\n"
     ]
    },
    {
     "ename": "AttributeError",
     "evalue": "'module' object has no attribute 'flip'",
     "output_type": "error",
     "traceback": [
      "\u001b[0;31m---------------------------------------------------------------------------\u001b[0m",
      "\u001b[0;31mAttributeError\u001b[0m                            Traceback (most recent call last)",
      "\u001b[0;32m<ipython-input-20-e2e96cc83873>\u001b[0m in \u001b[0;36m<module>\u001b[0;34m()\u001b[0m\n\u001b[1;32m      3\u001b[0m \u001b[0;32mprint\u001b[0m \u001b[0mcolors\u001b[0m\u001b[0;34m\u001b[0m\u001b[0m\n\u001b[1;32m      4\u001b[0m \u001b[0mcolors\u001b[0m \u001b[0;34m=\u001b[0m \u001b[0mcm\u001b[0m\u001b[0;34m.\u001b[0m\u001b[0mYlGn\u001b[0m\u001b[0;34m(\u001b[0m\u001b[0mnp\u001b[0m\u001b[0;34m.\u001b[0m\u001b[0mlinspace\u001b[0m\u001b[0;34m(\u001b[0m\u001b[0;36m0\u001b[0m\u001b[0;34m,\u001b[0m \u001b[0;36m1\u001b[0m\u001b[0;34m,\u001b[0m \u001b[0;36m12\u001b[0m\u001b[0;34m)\u001b[0m\u001b[0;34m)\u001b[0m\u001b[0;34m\u001b[0m\u001b[0m\n\u001b[0;32m----> 5\u001b[0;31m \u001b[0;32mprint\u001b[0m \u001b[0mnp\u001b[0m\u001b[0;34m.\u001b[0m\u001b[0mflip\u001b[0m\u001b[0;34m(\u001b[0m\u001b[0mcolors\u001b[0m\u001b[0;34m,\u001b[0m \u001b[0;36m0\u001b[0m\u001b[0;34m)\u001b[0m \u001b[0;31m# flip to return green to yellow\u001b[0m\u001b[0;34m\u001b[0m\u001b[0m\n\u001b[0m",
      "\u001b[0;31mAttributeError\u001b[0m: 'module' object has no attribute 'flip'"
     ]
    }
   ],
   "source": [
    "import matplotlib.cm as cm\n",
    "colors = cm.nipy_spectral(np.linspace(0, 1, 12))\n",
    "print colors\n",
    "colors = cm.YlGn(np.linspace(0, 1, 12))\n",
    "print np.flip(colors, 0) # flip to return green to yellow"
   ]
  },
  {
   "cell_type": "code",
   "execution_count": 21,
   "metadata": {
    "collapsed": false
   },
   "outputs": [
    {
     "name": "stdout",
     "output_type": "stream",
     "text": [
      "[[  2.  19.   0. ...,   6.  -1.  -1.]\n",
      " [ -1.  -1.  -1. ...,   4.   2.   0.]\n",
      " [ 15.  17.  -1. ...,  -1.   1.   8.]\n",
      " ..., \n",
      " [ -1.  -1.   3. ...,  -1.   5.  -1.]\n",
      " [ -1.   7.  11. ...,   5.  -1.  -1.]\n",
      " [  6.  12.  -1. ...,  -1.   9.  -1.]]\n",
      "(1000, 100)\n"
     ]
    }
   ],
   "source": [
    "# Synthetic data about how recent everything is\n",
    "\n",
    "def sample_n(n):\n",
    "    mu, sigma = 0, 10 # mean and standard deviation\n",
    "    s = np.random.normal(mu, sigma, n)\n",
    "    for i, val in enumerate(s):\n",
    "        if s[i] < 0:\n",
    "            s[i] = -1\n",
    "        else:\n",
    "            s[i] = int(abs(s[i]))\n",
    "    return s\n",
    "\n",
    "\n",
    "A = np.ones((1000,100))\n",
    "\n",
    "#rows is time\n",
    "#column is how far back had to search for each motion planning query\n",
    "\n",
    "# for i, rowval in enumerate(A):\n",
    "#     for j, val in enumerate(rowval):\n",
    "#         A[i,j] = 2.0\n",
    "       \n",
    "for i, rowval in enumerate(A):\n",
    "    A[i] = sample_n(100)\n",
    "    \n",
    "print A\n",
    "print np.shape(A)\n",
    "        "
   ]
  },
  {
   "cell_type": "code",
   "execution_count": 22,
   "metadata": {
    "collapsed": false
   },
   "outputs": [
    {
     "name": "stdout",
     "output_type": "stream",
     "text": [
      "[0 1]\n",
      "[3 1]\n",
      "3\n",
      "1\n",
      "0\n",
      "0\n"
     ]
    }
   ],
   "source": [
    "a = np.array([0,0,0,1])\n",
    "unique, counts = np.unique(a, return_counts=True)\n",
    "print unique\n",
    "print counts\n",
    "count_dict = dict(zip(unique, counts))\n",
    "\n",
    "for i in range(4):\n",
    "    if i in count_dict:\n",
    "        print count_dict[i]\n",
    "    else:\n",
    "        print 0"
   ]
  },
  {
   "cell_type": "code",
   "execution_count": 47,
   "metadata": {
    "collapsed": false
   },
   "outputs": [
    {
     "name": "stdout",
     "output_type": "stream",
     "text": [
      "['1504921777.178828328'] was 1\n",
      "['1504921777.180382622'] was 1\n",
      "['1504921777.189367987'] was 1\n",
      "['1504921777.191042937'] was 1\n",
      "['1504921777.197699092'] was 1\n",
      "['1504921777.198140742'] was 1\n",
      "['1504921777.198567406'] was 1\n",
      "['1504921777.247578520'] was 1\n",
      "['1504921777.247841303'] was 1\n",
      "['1504921777.278464520'] was 1\n",
      "['1504921777.279875954'] was 1\n",
      "error!\n",
      "10 time_index\n",
      "0 history_number\n",
      "210.0\n",
      "11\n"
     ]
    }
   ],
   "source": [
    "n = 151 # including out-of-FOV\n",
    "fname = \"histogramdata.txt\"\n",
    "with open(fname) as f:\n",
    "    content = f.readlines()\n",
    "# you may also want to remove whitespace characters like `\\n` at the end of each line\n",
    "histogram_data = []\n",
    "time_index = -1\n",
    "empty_row = np.zeros(151)\n",
    "for i in range(len(content)):\n",
    "    split_content = content[i].split()\n",
    "    if (len(split_content) == 1):\n",
    "        print split_content, \"was 1\"\n",
    "        time_index += 1\n",
    "        histogram_data.append(empty_row)\n",
    "        print time_index\n",
    "        print len(his)\n",
    "        continue\n",
    "    history_number = int(split_content[0])\n",
    "    number_queries = split_content[1]\n",
    "    row = histogram_data[time_index]\n",
    "    if (row[history_number] != 0):\n",
    "        print \"error!\"\n",
    "        print time_index, \"time_index\"\n",
    "        print history_number, \"history_number\"\n",
    "        print row[history_number]\n",
    "        break\n",
    "    row[history_number] = number_queries\n",
    "\n",
    "print len(histogram_data)\n",
    "#content = [x.strip() for x in content] \n",
    "#print content"
   ]
  },
  {
   "cell_type": "code",
   "execution_count": null,
   "metadata": {
    "collapsed": false
   },
   "outputs": [],
   "source": [
    "# change into percentage\n",
    "\n",
    "max_depth = 150 + 1 # add one for not in view\n",
    "percentages = np.ones((len(A),max_depth))\n",
    "\n",
    "for i, rowval in enumerate(A):\n",
    "    unique, counts = np.unique(rowval, return_counts=True)\n",
    "    count_dict = dict(zip(unique, counts))\n",
    "    percentage = np.zeros(max_depth)\n",
    "    for j, val in enumerate(percentage):\n",
    "        # check for not in, change to -1\n",
    "        if j == (max_depth-1):\n",
    "            j = -1\n",
    "            \n",
    "        #check in dict\n",
    "        if j in count_dict:\n",
    "            percentage[j] = count_dict[j]\n",
    "        else:\n",
    "            percentage[j] = 0\n",
    "    percentages[i] = percentage \n",
    "    \n",
    "\n",
    "y = np.row_stack((fnxup(), 2*fnx(), fnxdown()))\n",
    "x = np.arange(1000)\n",
    "percentages = percentages.transpose()\n",
    "print np.shape(percentages.transpose())\n",
    "print np.shape(x)\n",
    "\n",
    "my_colormap = cm.YlGn(np.linspace(0, 1, max_depth))\n",
    "my_colormap = np.flip(my_colormap, 0) # flip to return green to yellow\n",
    "my_colormap[max_depth-1] = [180.0/256, 0., 0., 0.8]\n",
    "\n",
    "fig, ax = plt.subplots()\n",
    "ax.stackplot(x, percentages, colors = my_colormap)\n",
    "plt.show()"
   ]
  },
  {
   "cell_type": "code",
   "execution_count": null,
   "metadata": {
    "collapsed": false
   },
   "outputs": [],
   "source": [
    "import matplotlib\n",
    "from numpy.random import randn\n",
    "import matplotlib.pyplot as plt\n",
    "from matplotlib.ticker import FuncFormatter\n",
    "\n",
    "\n",
    "def to_percent(y, position):\n",
    "    # Ignore the passed in position. This has the effect of scaling the default\n",
    "    # tick locations.\n",
    "    s = str(100 * y)\n",
    "\n",
    "    # The percent symbol needs escaping in latex\n",
    "    if matplotlib.rcParams['text.usetex'] is True:\n",
    "        return s + r'$\\%$'\n",
    "    else:\n",
    "        return s + '%'\n",
    "\n",
    "x = randn(5000)\n",
    "\n",
    "# Make a normed histogram. It'll be multiplied by 100 later.\n",
    "plt.hist(x, bins=50, normed=True)\n",
    "\n",
    "# Create the formatter using the function to_percent. This multiplies all the\n",
    "# default labels by 100, making them all percentages\n",
    "formatter = FuncFormatter(to_percent)\n",
    "\n",
    "# Set the formatter\n",
    "plt.gca().yaxis.set_major_formatter(formatter)\n",
    "\n",
    "plt.show()"
   ]
  },
  {
   "cell_type": "code",
   "execution_count": null,
   "metadata": {
    "collapsed": false
   },
   "outputs": [],
   "source": [
    "import numpy as n\n",
    "import matplotlib.pyplot as plt\n",
    "\n",
    "# Random gaussian data.\n",
    "Ntotal = 1000\n",
    "data = n.random.rand(Ntotal)*150\n",
    "\n",
    "# This is  the colormap I'd like to use.\n",
    "cm = plt.cm.get_cmap('YlGn')\n",
    "#colors = cm.YlGn(np.linspace(0, 1, 12))\n",
    "#print np.flip(colors, 0) # flip to return green to yellow\n",
    "\n",
    "# Plot histogram.\n",
    "n, bins, patches = plt.hist(data, 151, normed=1, color='red')\n",
    "bin_centers = 0.5 * (bins[:-1] + bins[1:])\n",
    "\n",
    "# scale values to interval [0,1]\n",
    "col = bin_centers - min(bin_centers)\n",
    "col /= max(col)\n",
    "\n",
    "i = 0\n",
    "for c, p in zip(col, patches):\n",
    "    plt.setp(p, 'facecolor', my_colormap[i])\n",
    "    i += 1\n",
    "    \n",
    "plt.show()"
   ]
  }
 ],
 "metadata": {
  "kernelspec": {
   "display_name": "Python 2",
   "language": "python",
   "name": "python2"
  },
  "language_info": {
   "codemirror_mode": {
    "name": "ipython",
    "version": 2
   },
   "file_extension": ".py",
   "mimetype": "text/x-python",
   "name": "python",
   "nbconvert_exporter": "python",
   "pygments_lexer": "ipython2",
   "version": "2.7.11"
  }
 },
 "nbformat": 4,
 "nbformat_minor": 2
}
