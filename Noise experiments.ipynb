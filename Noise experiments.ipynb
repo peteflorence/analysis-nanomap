{
 "cells": [
  {
   "cell_type": "code",
   "execution_count": 4,
   "metadata": {
    "collapsed": true
   },
   "outputs": [],
   "source": [
    "import numpy as np\n",
    "import matplotlib.pyplot as plt\n",
    "%matplotlib inline"
   ]
  },
  {
   "cell_type": "markdown",
   "metadata": {},
   "source": [
    "## Noise experiment #1\n",
    "\n",
    "Environment: 12 m altitude towards overpass (does not duck)\n",
    "- Start: 100 x\n",
    "- Goal: -60 x\n",
    "\n",
    "Drift characteristics: deterministic, biased drift, in positive x direction (backwards)"
   ]
  },
  {
   "cell_type": "code",
   "execution_count": 32,
   "metadata": {
    "collapsed": false
   },
   "outputs": [
    {
     "data": {
      "image/png": "[encoded data removed]",
      "text/plain": [
       "<matplotlib.figure.Figure at 0x7ffa8baeead0>"
      ]
     },
     "metadata": {},
     "output_type": "display_data"
    }
   ],
   "source": [
    "drift_levels = [0,1,3]\n",
    "drift_axes = []\n",
    "num_samples_per = 5\n",
    "for i,v in enumerate(drift_levels):\n",
    "     drift_axes.append(np.ones(num_samples_per)*v)\n",
    "\n",
    "modeled = []\n",
    "modeled.append([1.8,1.6,1.7,1.9,2.0]) # 0 cm\n",
    "modeled.append([2.4,3.2,2.,2.7,2.5])  # 1 cm\n",
    "modeled.append([2.9,3.4,3.2,2.8,3.0]) # 3 cm\n",
    "\n",
    "unmodeled = []\n",
    "unmodeled.append([1.8,1.6,1.7,1.9,2.0]) # 0 cm\n",
    "unmodeled.append([0.8,1.7,1.1,1.7,1.6]) # 1 cm\n",
    "unmodeled.append([0.0,0.0,1.78,1.4,1.3]) # 3 cm\n",
    "\n",
    "def concatenate(list_of_lists):\n",
    "    result = []\n",
    "    for i in list_of_lists:\n",
    "        for j in i:\n",
    "            result.append(j)\n",
    "    return result\n",
    "\n",
    "modeled = concatenate(modeled)\n",
    "unmodeled = concatenate(unmodeled)\n",
    "drft_axes = concatenate(drift_axes)\n",
    "\n",
    "plt.scatter(drift_axes,modeled,color='r',label=\"modeled\")\n",
    "plt.scatter(drift_axes,unmodeled,color='b',label=\"unmodeled\")\n",
    "\n",
    "axes = plt.gca()\n",
    "#axes.set_xlim([xmin,xmax])\n",
    "axes.set_ylim([0,3.5])\n",
    "plt.xlabel('drift per pose(cm)')\n",
    "plt.ylabel('robustness -- min distance to obstacle (m)')\n",
    "plt.legend()\n",
    "plt.show()\n"
   ]
  }
 ],
 "metadata": {
  "kernelspec": {
   "display_name": "Python 2",
   "language": "python",
   "name": "python2"
  },
  "language_info": {
   "codemirror_mode": {
    "name": "ipython",
    "version": 2
   },
   "file_extension": ".py",
   "mimetype": "text/x-python",
   "name": "python",
   "nbconvert_exporter": "python",
   "pygments_lexer": "ipython2",
   "version": "2.7.6"
  }
 },
 "nbformat": 4,
 "nbformat_minor": 2
}
