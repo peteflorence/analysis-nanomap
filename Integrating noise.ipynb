{
 "cells": [
  {
   "cell_type": "code",
   "execution_count": 159,
   "metadata": {
    "collapsed": false
   },
   "outputs": [],
   "source": [
    "import numpy as np\n",
    "time_steps = 100\n",
    "dt = 0.01\n",
    "p = np.zeros(time_steps)\n",
    "v = np.zeros(time_steps)\n",
    "a = np.zeros(time_steps)"
   ]
  },
  {
   "cell_type": "code",
   "execution_count": 235,
   "metadata": {
    "collapsed": false
   },
   "outputs": [],
   "source": [
    "import matplotlib.pyplot as plt\n",
    "%matplotlib inline\n",
    "def plot_all(plot_list = [p,v,a],label_list=['p','v','a']):\n",
    "    [plt.plot(v,label=label_list[k]) for k,v in enumerate(plot_list)]\n",
    "    plt.legend()\n",
    "    plt.show()"
   ]
  },
  {
   "cell_type": "code",
   "execution_count": 236,
   "metadata": {
    "collapsed": false
   },
   "outputs": [
    {
     "name": "stdout",
     "output_type": "stream",
     "text": [
      "-0.00912841321042\n"
     ]
    }
   ],
   "source": [
    "mu,sigma,n = 0,0.01,1\n",
    "print np.random.normal(mu,sigma,n)[0]\n",
    "def my_rand():\n",
    "    return np.random.normal(mu,sigma,n)[0]"
   ]
  },
  {
   "cell_type": "code",
   "execution_count": 247,
   "metadata": {
    "collapsed": false
   },
   "outputs": [
    {
     "data": {
      "image/png": "[encoded data removed]",
      "text/plain": [
       "<matplotlib.figure.Figure at 0x7fb45b8717d0>"
      ]
     },
     "metadata": {},
     "output_type": "display_data"
    }
   ],
   "source": [
    "def step_time(p_t,v_t,a_t):\n",
    "    a_hat = a_t + my_rand()\n",
    "    v_hat = a_hat*dt + v_t\n",
    "    p_hat = (a_hat)**2 + v_hat*dt + p_t\n",
    "    return p_hat, v_hat, a_hat\n",
    "\n",
    "for i in range(1,time_steps):\n",
    "    p[i], v[i], a[i] = step_time(p[i-1],v[i-1],a[i-1]) \n",
    "\n",
    "plot_all()"
   ]
  }
 ],
 "metadata": {
  "kernelspec": {
   "display_name": "Python 2",
   "language": "python",
   "name": "python2"
  },
  "language_info": {
   "codemirror_mode": {
    "name": "ipython",
    "version": 2
   },
   "file_extension": ".py",
   "mimetype": "text/x-python",
   "name": "python",
   "nbconvert_exporter": "python",
   "pygments_lexer": "ipython2",
   "version": "2.7.6"
  }
 },
 "nbformat": 4,
 "nbformat_minor": 2
}
