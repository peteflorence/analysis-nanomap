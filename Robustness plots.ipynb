{
 "cells": [
  {
   "cell_type": "code",
   "execution_count": 54,
   "metadata": {
    "collapsed": false
   },
   "outputs": [],
   "source": [
    "# Parse data\n",
    "import os\n",
    "import yaml\n",
    "\n",
    "data_folder = \"nanomap_final\"\n",
    "trial_name = \"drift_bias_01\"\n",
    "fullpath = os.path.join(os.getcwd(),data_folder,trial_name)\n",
    "\n",
    "def crawl_dir_and_plot(fullpath):\n",
    "    print fullpath\n",
    "    modeled_data_actual = []\n",
    "    modeled_data_modeled = []\n",
    "    modeled_data_robustness = []\n",
    "\n",
    "    unmodeled_data_actual = []\n",
    "    unmodeled_data_modeled = []\n",
    "    unmodeled_data_robustness = []\n",
    "    \n",
    "    def Plot():\n",
    "        plt.scatter(unmodeled_data_actual, unmodeled_data_robustness,label='unmodeled')\n",
    "        plt.scatter(modeled_data_actual, modeled_data_robustness,label='modeled', color='r')\n",
    "        axes = plt.gca()\n",
    "        #axes.set_xlim([0,50])\n",
    "        axes.set_ylim([0,3])\n",
    "        plt.legend()\n",
    "\n",
    "    def ParseMetadata(name):\n",
    "        with open(name) as f:\n",
    "            # use safe_load instead load\n",
    "            metadata = yaml.safe_load(f)\n",
    "        if metadata['tag'] == 'modeled':\n",
    "            modeled_data_actual.append(metadata['drift_actual'])\n",
    "            modeled_data_modeled.append(metadata['sigma_modeled'])\n",
    "            modeled_data_robustness.append(metadata['min_range_to_obstacle'])\n",
    "        if metadata['tag'] == 'unmodeled':\n",
    "            unmodeled_data_actual.append(metadata['drift_actual'])\n",
    "            unmodeled_data_modeled.append(metadata['sigma_modeled'])\n",
    "            unmodeled_data_robustness.append(metadata['min_range_to_obstacle'])\n",
    "\n",
    "\n",
    "    for root, dirs, files_list in os.walk(fullpath):\n",
    "        for name in files_list:\n",
    "             if name.startswith((\"metadata\")):\n",
    "                    ParseMetadata(os.path.join(root,name))\n",
    "    Plot()\n",
    "\n",
    "                "
   ]
  },
  {
   "cell_type": "code",
   "execution_count": 55,
   "metadata": {
    "collapsed": false
   },
   "outputs": [],
   "source": [
    "# Make plot\n",
    "\n",
    "import matplotlib.pyplot as plt\n",
    "import numpy as np\n",
    "%matplotlib inline\n",
    "\n"
   ]
  },
  {
   "cell_type": "code",
   "execution_count": 56,
   "metadata": {
    "collapsed": false
   },
   "outputs": [
    {
     "name": "stdout",
     "output_type": "stream",
     "text": [
      "/Users/pflomacpro/analysis-nanomap/nanomap_final/drift_bias_01\n"
     ]
    },
    {
     "data": {
      "image/png": "[encoded data removed]",
      "text/plain": [
       "<matplotlib.figure.Figure at 0x110662190>"
      ]
     },
     "metadata": {},
     "output_type": "display_data"
    }
   ],
   "source": [
    "data_folder = \"nanomap_final\"\n",
    "trial_name = \"drift_bias_01\"\n",
    "fullpath = os.path.join(os.getcwd(),data_folder,trial_name)\n",
    "crawl_dir_and_plot(fullpath)"
   ]
  },
  {
   "cell_type": "code",
   "execution_count": 59,
   "metadata": {
    "collapsed": false
   },
   "outputs": [
    {
     "name": "stdout",
     "output_type": "stream",
     "text": [
      "/Users/pflomacpro/analysis-nanomap/nanomap_final/drift_imu_02\n"
     ]
    },
    {
     "data": {
      "image/png": "[encoded data removed]",
      "text/plain": [
       "<matplotlib.figure.Figure at 0x110a46f90>"
      ]
     },
     "metadata": {},
     "output_type": "display_data"
    }
   ],
   "source": [
    "data_folder = \"nanomap_final\"\n",
    "trial_name = \"drift_imu_02\"\n",
    "fullpath = os.path.join(os.getcwd(),data_folder,trial_name)\n",
    "crawl_dir_and_plot(fullpath)"
   ]
  },
  {
   "cell_type": "code",
   "execution_count": null,
   "metadata": {
    "collapsed": true
   },
   "outputs": [],
   "source": [
    "data_folder = \"nanomap_final\"\n",
    "trial_name = \"drift_imu_01\"\n",
    "fullpath = os.path.join(os.getcwd(),data_folder,trial_name)\n",
    "crawl_dir_and_plot(fullpath)"
   ]
  },
  {
   "cell_type": "code",
   "execution_count": null,
   "metadata": {
    "collapsed": true
   },
   "outputs": [],
   "source": []
  }
 ],
 "metadata": {
  "kernelspec": {
   "display_name": "Python 2",
   "language": "python",
   "name": "python2"
  },
  "language_info": {
   "codemirror_mode": {
    "name": "ipython",
    "version": 2
   },
   "file_extension": ".py",
   "mimetype": "text/x-python",
   "name": "python",
   "nbconvert_exporter": "python",
   "pygments_lexer": "ipython2",
   "version": "2.7.11"
  }
 },
 "nbformat": 4,
 "nbformat_minor": 0
}
